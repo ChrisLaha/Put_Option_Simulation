{
 "cells": [
  {
   "cell_type": "markdown",
   "id": "9854d4a5-cec3-4c26-914a-8e63a73d2a11",
   "metadata": {},
   "source": [
    "# Put Option Simulation\n",
    "---\n"
   ]
  },
  {
   "cell_type": "markdown",
   "id": "3ef59c7c-97c4-4273-8b36-36d916a5878e",
   "metadata": {},
   "source": [
    "# Question\n",
    "---\n",
    "* If you own a stock, buying a put option on the stock will greatly reduce your risk. This is the idea behind portfolio insurance. To illustrate, consider a stock that currently sells for $56 and has an annual volatility of 30%. Assume the risk-free rate is 8%, and you estimate that the stock’s annual growth rate is 12%.\n",
    "\n",
    "* Suppose you own 100 shares of this stock. Use simulation to estimate the probability distribution of the percentage return earned on this stock during a one-year period.\n",
    "  \n",
    "* Now suppose you also buy a put option for $238 on the stock. The option has an exercise price of $50 and an exercise date one year from now. Use simulation to estimate the probability distribution of the percentage return on your portfolio over a one-year period. Can you see why this strategy is called a portfolio insurance strategy?\n",
    "\n",
    "* Use simulation to show that the put option should, indeed, sell for about $238."
   ]
  },
  {
   "cell_type": "markdown",
   "id": "ae068177-6cf7-4784-a478-35c026043c4f",
   "metadata": {},
   "source": [
    "# Problem Breakdown\n",
    "---\n",
    "1. Simulate the stock price after one year to estimate the distribution of percentage return on the stock.\n",
    "2. Incorporate the put option into the simulation to see how it affects the distribution of returns.\n",
    "3. Estimate the fair price of the put option using simulation.\n",
    "\n",
    "4. First, let's define some variables based on the given information:\n",
    "\n",
    "- Initial stock price $S_0 = \\$56$\n",
    "- Annual volatility $\\sigma = 30\\%$\n",
    "- Risk-free rate $r = 8\\%$\n",
    "- Stock’s annual growth rate $\\mu = 12\\%$\n",
    "- Number of shares $N = 100$\n",
    "- Put option exercise price $K = \\$50$\n",
    "- Option cost $C_{\\text{option}} = \\$238$\n",
    "\n",
    "We'll simulate the stock price after one year using the geometric Brownian motion model, which is a common model for stock price dynamics. The formula for a future stock price after time $t$ is:\n",
    "\n",
    "$$S_t = S_0 e^{(\\mu - \\frac{1}{2} \\sigma^2)t + \\sigma \\sqrt{t} Z}$$\n",
    "\n",
    "where $Z$ is a random variable from the standard normal distribution.\n"
   ]
  },
  {
   "cell_type": "markdown",
   "id": "e82444ce-468b-4849-812f-40b38e6cb760",
   "metadata": {},
   "source": [
    "# Simulating Stock Price"
   ]
  },
  {
   "cell_type": "code",
   "execution_count": 4,
   "id": "d16fde8f-4772-4330-a3d8-82940318e853",
   "metadata": {},
   "outputs": [
    {
     "name": "stdout",
     "output_type": "stream",
     "text": [
      "Simulated percentage return on the stock\n",
      "Mean return: 12.01%\n",
      "Standard deviation of return: 34.03%\n"
     ]
    }
   ],
   "source": [
    "import numpy as np\n",
    "\n",
    "# Given variables\n",
    "S0 = 56  # Initial stock price\n",
    "mu = 0.12  # Drift (annual growth rate)\n",
    "sigma = 0.30  # Volatility\n",
    "r = 0.08  # Risk-free rate\n",
    "N_shares = 100  # Number of shares\n",
    "T = 1  # Time in years\n",
    "n_simulations = 10000  # Number of simulations\n",
    "\n",
    "# Simulate end-of-year stock prices\n",
    "np.random.seed(0)  # For reproducibility\n",
    "Z = np.random.randn(n_simulations)\n",
    "ST = S0 * np.exp((mu - 0.5 * sigma**2) * T + sigma * np.sqrt(T) * Z)\n",
    "\n",
    "# Calculate the percentage return on the stock\n",
    "percentage_return_stock = ((ST - S0) / S0) * 100\n",
    "\n",
    "# Results\n",
    "print(\"Simulated percentage return on the stock\")\n",
    "print(\"Mean return: {:.2f}%\".format(np.mean(percentage_return_stock)))\n",
    "print(\"Standard deviation of return: {:.2f}%\".format(np.std(percentage_return_stock)))\n"
   ]
  },
  {
   "cell_type": "markdown",
   "id": "8780249f-fc3f-4367-b34f-c82611064ed7",
   "metadata": {},
   "source": [
    "# Incorporating the Put Option"
   ]
  },
  {
   "cell_type": "code",
   "execution_count": 5,
   "id": "cbe12ace-8936-46d5-baa0-d01036cdfc44",
   "metadata": {},
   "outputs": [
    {
     "name": "stdout",
     "output_type": "stream",
     "text": [
      "\n",
      "Simulated percentage return on the portfolio with put option\n",
      "Mean return: 7.28%\n",
      "Standard deviation of return: 29.88%\n"
     ]
    }
   ],
   "source": [
    "# Calculate portfolio value with put option\n",
    "K = 50  # Exercise price of the put option\n",
    "C_option = 238  # Cost of the put option\n",
    "option_payoff = np.maximum(K - ST, 0) * N_shares - C_option\n",
    "portfolio_value_with_option = ST * N_shares + option_payoff - S0 * N_shares - C_option\n",
    "\n",
    "# Calculate the percentage return on the portfolio\n",
    "percentage_return_portfolio = (portfolio_value_with_option / (S0 * N_shares)) * 100\n",
    "\n",
    "# Part 2 results\n",
    "print(\"\\nSimulated percentage return on the portfolio with put option\")\n",
    "print(\"Mean return: {:.2f}%\".format(np.mean(percentage_return_portfolio)))\n",
    "print(\"Standard deviation of return: {:.2f}%\".format(np.std(percentage_return_portfolio)))\n"
   ]
  },
  {
   "cell_type": "markdown",
   "id": "7ce01a3b-2679-4b42-aad5-ab6b153b89e3",
   "metadata": {},
   "source": [
    "# Portfolio Insurance Strategy Findings\n",
    "---\n",
    "### Mean Return:\n",
    "\n",
    "* Without the put option, the mean return on the stock is higher (12.01%) compared to the portfolio with the put option (7.28%). This is expected because the put option comes at a cost $238, which reduces the overall return on the portfolio.\n",
    "---\n",
    "### Standard Deviation of Return:\n",
    "\n",
    "* The standard deviation of returns, which measures the risk or volatility of the investment, is lower for the portfolio with the put option (29.88%) compared to the stock alone (34.03%). This reduction in volatility is a key feature of insurance—by accepting a lower mean return, you're also reducing your exposure to downside risk.\n",
    "The essence of a portfolio insurance strategy lies in its ability to limit losses without entirely forfeiting the potential for gains.\n",
    "---\n",
    "### Simulation:\n",
    "\n",
    "* Without the put option, you're fully exposed to the stock's volatility, leading to a higher potential return but with greater risk.\n",
    "With the put option, you've effectively set a floor (the exercise price of 50) on how much you can lose over the year. If the stock's value drops below this price, the put option will offset the losses beyond this point. This safety net comes at the cost of the option premium ($238), which is why the mean return on the insured portfolio is lower.\n",
    "* By buying a put option, you're insuring the portfolio against significant losses, hence the term \"portfolio insurance.\" This strategy is particularly appealing to investors who seek to participate in the potential upside of the stock market while protecting themselves against severe downturns."
   ]
  },
  {
   "cell_type": "markdown",
   "id": "a9281dfd-7ba6-4911-8c95-08671c20d38b",
   "metadata": {},
   "source": [
    "# Estimating the Put Option Price\n",
    "---\n",
    "To estimate the fair price of the put option, we use the risk-neutral pricing formula. In a risk-neutral world, we replace the drift $\\mu$ with the risk-free rate $r$ when simulating the stock prices. Then, we calculate the present value of the expected payoff of the put option.\n"
   ]
  },
  {
   "cell_type": "code",
   "execution_count": 6,
   "id": "7f909155-e9b9-4df7-8644-46e35fdb597e",
   "metadata": {},
   "outputs": [
    {
     "name": "stdout",
     "output_type": "stream",
     "text": [
      "\n",
      "Estimated price of the put option\n",
      "Simulated option price: $239.66\n"
     ]
    }
   ],
   "source": [
    "# Simulate end-of-year stock prices under risk-neutral measure\n",
    "ST_risk_neutral = S0 * np.exp((r - 0.5 * sigma**2) * T + sigma * np.sqrt(T) * Z)\n",
    "option_payoff_risk_neutral = np.maximum(K - ST_risk_neutral, 0)\n",
    "option_price_simulated = np.exp(-r * T) * np.mean(option_payoff_risk_neutral) * N_shares\n",
    "\n",
    "# Part 3 results\n",
    "print(\"\\nEstimated price of the put option\")\n",
    "print(\"Simulated option price: ${:.2f}\".format(option_price_simulated))\n"
   ]
  },
  {
   "cell_type": "markdown",
   "id": "c604ada0-7bfc-4500-9b01-5c12476a0c08",
   "metadata": {},
   "source": [
    "# Put Option Pricing\n",
    "---\n",
    "* Based on our simulation, the option price should have been priced at 239.66 and we were able to purchase it for $238. Meaning we got a slightly better deal on our downside protection in this case."
   ]
  },
  {
   "cell_type": "code",
   "execution_count": null,
   "id": "433e3755-fdc4-4c5b-a2cb-35b4352b66f8",
   "metadata": {},
   "outputs": [],
   "source": []
  }
 ],
 "metadata": {
  "kernelspec": {
   "display_name": "Python 3 (ipykernel)",
   "language": "python",
   "name": "python3"
  },
  "language_info": {
   "codemirror_mode": {
    "name": "ipython",
    "version": 3
   },
   "file_extension": ".py",
   "mimetype": "text/x-python",
   "name": "python",
   "nbconvert_exporter": "python",
   "pygments_lexer": "ipython3",
   "version": "3.9.18"
  }
 },
 "nbformat": 4,
 "nbformat_minor": 5
}
